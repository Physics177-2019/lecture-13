{
  "nbformat": 4,
  "nbformat_minor": 0,
  "metadata": {
    "colab": {
      "name": "lecture-13.ipynb",
      "version": "0.3.2",
      "provenance": []
    },
    "kernelspec": {
      "display_name": "Python 3",
      "language": "python",
      "name": "python3"
    }
  },
  "cells": [
    {
      "metadata": {
        "id": "8ycnlNx2ChzI",
        "colab_type": "code",
        "colab": {
          "base_uri": "https://localhost:8080/",
          "height": 482
        },
        "outputId": "7a30a5c5-4f00-4c71-9178-7158cfb29931"
      },
      "cell_type": "code",
      "source": [
        "!pip install seaborn --upgrade"
      ],
      "execution_count": 1,
      "outputs": [
        {
          "output_type": "stream",
          "text": [
            "Collecting seaborn\n",
            "\u001b[?25l  Downloading https://files.pythonhosted.org/packages/a8/76/220ba4420459d9c4c9c9587c6ce607bf56c25b3d3d2de62056efe482dadc/seaborn-0.9.0-py3-none-any.whl (208kB)\n",
            "\r\u001b[K    4% |█▋                              | 10kB 13.7MB/s eta 0:00:01\r\u001b[K    9% |███▏                            | 20kB 3.3MB/s eta 0:00:01\r\u001b[K    14% |████▊                           | 30kB 4.8MB/s eta 0:00:01\r\u001b[K    19% |██████▎                         | 40kB 3.1MB/s eta 0:00:01\r\u001b[K    24% |███████▉                        | 51kB 3.8MB/s eta 0:00:01\r\u001b[K    29% |█████████▌                      | 61kB 4.5MB/s eta 0:00:01\r\u001b[K    34% |███████████                     | 71kB 5.1MB/s eta 0:00:01\r\u001b[K    39% |████████████▋                   | 81kB 5.8MB/s eta 0:00:01\r\u001b[K    44% |██████████████▏                 | 92kB 6.4MB/s eta 0:00:01\r\u001b[K    49% |███████████████▊                | 102kB 5.0MB/s eta 0:00:01\r\u001b[K    54% |█████████████████▎              | 112kB 5.1MB/s eta 0:00:01\r\u001b[K    59% |███████████████████             | 122kB 6.9MB/s eta 0:00:01\r\u001b[K    63% |████████████████████▌           | 133kB 6.9MB/s eta 0:00:01\r\u001b[K    68% |██████████████████████          | 143kB 12.4MB/s eta 0:00:01\r\u001b[K    73% |███████████████████████▋        | 153kB 12.6MB/s eta 0:00:01\r\u001b[K    78% |█████████████████████████▏      | 163kB 12.5MB/s eta 0:00:01\r\u001b[K    83% |██████████████████████████▊     | 174kB 12.2MB/s eta 0:00:01\r\u001b[K    88% |████████████████████████████▍   | 184kB 12.2MB/s eta 0:00:01\r\u001b[K    93% |██████████████████████████████  | 194kB 12.3MB/s eta 0:00:01\r\u001b[K    98% |███████████████████████████████▌| 204kB 36.5MB/s eta 0:00:01\r\u001b[K    100% |████████████████████████████████| 215kB 24.1MB/s \n",
            "\u001b[?25hRequirement already satisfied, skipping upgrade: pandas>=0.15.2 in /usr/local/lib/python3.6/dist-packages (from seaborn) (0.22.0)\n",
            "Requirement already satisfied, skipping upgrade: numpy>=1.9.3 in /usr/local/lib/python3.6/dist-packages (from seaborn) (1.14.6)\n",
            "Requirement already satisfied, skipping upgrade: scipy>=0.14.0 in /usr/local/lib/python3.6/dist-packages (from seaborn) (1.1.0)\n",
            "Requirement already satisfied, skipping upgrade: matplotlib>=1.4.3 in /usr/local/lib/python3.6/dist-packages (from seaborn) (3.0.2)\n",
            "Requirement already satisfied, skipping upgrade: pytz>=2011k in /usr/local/lib/python3.6/dist-packages (from pandas>=0.15.2->seaborn) (2018.9)\n",
            "Requirement already satisfied, skipping upgrade: python-dateutil>=2 in /usr/local/lib/python3.6/dist-packages (from pandas>=0.15.2->seaborn) (2.5.3)\n",
            "Requirement already satisfied, skipping upgrade: pyparsing!=2.0.4,!=2.1.2,!=2.1.6,>=2.0.1 in /usr/local/lib/python3.6/dist-packages (from matplotlib>=1.4.3->seaborn) (2.3.1)\n",
            "Requirement already satisfied, skipping upgrade: cycler>=0.10 in /usr/local/lib/python3.6/dist-packages (from matplotlib>=1.4.3->seaborn) (0.10.0)\n",
            "Requirement already satisfied, skipping upgrade: kiwisolver>=1.0.1 in /usr/local/lib/python3.6/dist-packages (from matplotlib>=1.4.3->seaborn) (1.0.1)\n",
            "Requirement already satisfied, skipping upgrade: six>=1.5 in /usr/local/lib/python3.6/dist-packages (from python-dateutil>=2->pandas>=0.15.2->seaborn) (1.11.0)\n",
            "Requirement already satisfied, skipping upgrade: setuptools in /usr/local/lib/python3.6/dist-packages (from kiwisolver>=1.0.1->matplotlib>=1.4.3->seaborn) (40.8.0)\n",
            "Installing collected packages: seaborn\n",
            "  Found existing installation: seaborn 0.7.1\n",
            "    Uninstalling seaborn-0.7.1:\n",
            "      Successfully uninstalled seaborn-0.7.1\n",
            "Successfully installed seaborn-0.9.0\n"
          ],
          "name": "stdout"
        },
        {
          "output_type": "display_data",
          "data": {
            "application/vnd.colab-display-data+json": {
              "pip_warning": {
                "packages": [
                  "seaborn"
                ]
              }
            }
          },
          "metadata": {
            "tags": []
          }
        }
      ]
    },
    {
      "metadata": {
        "id": "0QQeAio2ChzO",
        "colab_type": "text"
      },
      "cell_type": "markdown",
      "source": [
        "# Lecture 13: Markov chain Monte Carlo\n",
        "\n",
        "[Markov chain Monte Carlo](https://en.wikipedia.org/wiki/Markov_chain_Monte_Carlo) methods, often abbreviated as MCMC or simply MC, allow us to sample from arbitrary probability distributions. \n",
        "\n",
        "The name has two parts: a [Markov chain](https://en.wikipedia.org/wiki/Markov_chain) is a stochastic model that undergoes transitions between different configurations, with the key condition that the probability of any event/transition depends only on the current configuration of the system. And, as you've seen before, [Monte Carlo](https://en.wikipedia.org/wiki/Monte_Carlo_method) methods are ones that make use of random sampling.\n",
        "\n",
        "MCMC works by constructing a stochastic model -- a Markov chain -- whose stationary distribution is the same as the one that we want to sample from. Monte Carlo simulations of the Markov chain then provide us with samples from the desired distribution.\n",
        "\n",
        "The Markov chain is defined by a set of transition probabilities $T_{ij}$ between configurations labeled $i$ and $j$. We can ensure that the stationary distribution of the Markov chain is the same as the one that we want to sample by enforcing the [detailed balance](https://en.wikipedia.org/wiki/Detailed_balance) condition\n",
        "\n",
        "$$\n",
        "P(i)T_{ij} = P(j)T_{ji}\\,,\n",
        "$$\n",
        "\n",
        "where $P(i)$ is the probability of configuration $i$. Usually, we aren't able to compute the $P(i)$ exactly, but we can often find their ratios:\n",
        "\n",
        "$$\n",
        "\\frac{P(i)}{P(j)} = \\frac{T_{ji}}{T_{ij}}\\,.\n",
        "$$\n",
        "\n",
        "If $P$ is a Gibbs distribution, then this condition is\n",
        "\n",
        "$$\n",
        "\\frac{T_{ij}}{T_{ji}} = \\frac{P(j)}{P(i)} = e^{\\beta \\left(E(i) - E(j)\\right)}\\,.\n",
        "$$\n",
        "\n",
        "Note that there are **many possible ways** to choose the $T_{ij}$ so that the detailed balance condition is satisfied! One common choice is called the [Metropolis rule](https://en.wikipedia.org/wiki/Metropolis%E2%80%93Hastings_algorithm),\n",
        "\n",
        "$$\n",
        "T_{ij} = \\begin{cases} \n",
        "1 \\qquad\\qquad\\,\\, \\text{if }E(j) < E(i)\\\\\n",
        "e^{-\\beta\\left(E(j) - E(i)\\right)} \\;\\; \\text{if }E(j) > E(i)\n",
        "\\end{cases} \\,.\n",
        "$$\n",
        "\n",
        "\n",
        "### Example: MCMC sampling for a single spin in an external magnetic field\n",
        "\n",
        "Let's return to the example of a single spin in an external magnetic field, and let's use MCMC to compute its probability distribution. This is an easy case where we can check our answer analytically. First, let's confirm the analytical result when the interaction energy $\\epsilon = 1$ and the temperature $T=1$."
      ]
    },
    {
      "metadata": {
        "id": "KzKZdkgIChzQ",
        "colab_type": "code",
        "colab": {
          "base_uri": "https://localhost:8080/",
          "height": 55
        },
        "outputId": "05d2c11e-f033-476c-f9e3-b2c5245d0f88"
      },
      "cell_type": "code",
      "source": [
        "import numpy as np\n",
        "\n",
        "# Taking our distribution from previous lectures\n",
        "\n",
        "def gibbs(eps, T):\n",
        "    \"\"\" This function takes the energy eps and temperature T as input\n",
        "        and returns the Gibbs distribution for a single spin as output \"\"\"\n",
        "    \n",
        "    Z     = np.exp(-eps/T) + np.exp(eps/T)\n",
        "    p_pos = np.exp( eps/T) / Z\n",
        "    p_neg = np.exp(-eps/T) / Z\n",
        "    \n",
        "    return p_pos, p_neg\n",
        "\n",
        "\n",
        "# Evaluate the distribution at eps = 1, T = 1\n",
        "\n",
        "p_pos, p_neg = gibbs(1, 1)\n",
        "\n",
        "print('At eps = 1, T = 1, the probability of spin up is %lf and spin down is %lf' % (p_pos, p_neg))"
      ],
      "execution_count": 2,
      "outputs": [
        {
          "output_type": "stream",
          "text": [
            "At eps = 1, T = 1, the probability of spin up is 0.880797 and spin down is 0.119203\n"
          ],
          "name": "stdout"
        }
      ]
    },
    {
      "metadata": {
        "id": "BcOdR91uChzT",
        "colab_type": "code",
        "colab": {}
      },
      "cell_type": "code",
      "source": [
        "\n",
        "\n",
        "\n",
        "\n",
        "\n",
        "\n",
        "\n",
        "\n",
        "\n",
        "\n",
        "\n",
        "\n",
        "\n",
        "\n",
        "\n",
        "\n",
        "\n",
        "\n",
        "\n",
        "\n",
        "\n",
        "\n"
      ],
      "execution_count": 0,
      "outputs": []
    },
    {
      "metadata": {
        "id": "Uv4EoIhjChzX",
        "colab_type": "text"
      },
      "cell_type": "markdown",
      "source": [
        "Now we'll write a simulation to *sample* from the Gibbs distribution without computing it explicitly.\n",
        "\n",
        "The first thing to do is to write down our transition probabilities. There are only two configurations: $\\sigma = \\pm 1$. With our parameters, the energy of the $\\sigma = 1$ configuration is lower than the energy of the $\\sigma = -1$ configuration. Thus, the transition probabilities using the Metropolis rule should be\n",
        "\n",
        "$$\n",
        "\\begin{align}\n",
        "T_{-+} &= 1\\,, \\\\\n",
        "T_{+-} &= e^{-\\beta\\left(E(-1) - E(1)\\right)} = e^{-2\\beta\\epsilon}\\,.\n",
        "\\end{align}\n",
        "$$\n",
        "\n",
        "To perform the Monte Carlo simulation, we'll start with an arbitrary configuration (say, $\\sigma=1$) and simulate many random transitions. We'll also store a record of the configurations as we go along."
      ]
    },
    {
      "metadata": {
        "id": "99JrPRIuChzX",
        "colab_type": "code",
        "colab": {
          "base_uri": "https://localhost:8080/",
          "height": 35
        },
        "outputId": "a05e069f-a9c8-4159-d7e1-eaed17f09e92"
      },
      "cell_type": "code",
      "source": [
        "import numpy as np\n",
        "import numpy.random as rng\n",
        "\n",
        "# Store the configurations\n",
        "\n",
        "configs = []\n",
        "\n",
        "# Initialize sigma and transition rates\n",
        "\n",
        "sigma = 1\n",
        "T_mp  = 1          # transition from - to + state\n",
        "T_pm  = np.exp(-2) # transition from + to - state\n",
        "\n",
        "# Choose the number of steps for our simulation, and go!\n",
        "\n",
        "n_steps = 10**3\n",
        "\n",
        "for i in range(n_steps):\n",
        "    \n",
        "    # Store the current configuration\n",
        "    configs.append(sigma)\n",
        "    \n",
        "    # Random transition\n",
        "    if sigma==-1:\n",
        "      sigma *= -1\n",
        "      \n",
        "    elif sigma==1:\n",
        "      r = rng.rand()\n",
        "      if r<T_pm:\n",
        "        sigma *= -1\n",
        "\n",
        "print('Done.')"
      ],
      "execution_count": 5,
      "outputs": [
        {
          "output_type": "stream",
          "text": [
            "Done.\n"
          ],
          "name": "stdout"
        }
      ]
    },
    {
      "metadata": {
        "id": "q-2jGALeChzb",
        "colab_type": "code",
        "colab": {}
      },
      "cell_type": "code",
      "source": [
        "\n",
        "\n",
        "\n",
        "\n",
        "\n",
        "\n",
        "\n",
        "\n",
        "\n",
        "\n",
        "\n",
        "\n",
        "\n",
        "\n",
        "\n",
        "\n",
        "\n",
        "\n",
        "\n",
        "\n",
        "\n",
        "\n"
      ],
      "execution_count": 0,
      "outputs": []
    },
    {
      "metadata": {
        "id": "EQHXSgLPChze",
        "colab_type": "text"
      },
      "cell_type": "markdown",
      "source": [
        "Now the list `configs` is storing a sample from the probability distribution! Let's check to see how accurate it is. We can compute the probability of the $\\sigma=\\pm1$ configurations by measuring how often these values appear in `configs`. \n",
        "\n",
        "**Note**: we took $10^6$ samples in our simulation. How accurate do you expect the probabilities to be?"
      ]
    },
    {
      "metadata": {
        "id": "r-AsSf5HChzf",
        "colab_type": "code",
        "colab": {
          "base_uri": "https://localhost:8080/",
          "height": 54
        },
        "outputId": "8521f847-8bd3-4daf-8c68-ba6f09ccdf7b"
      },
      "cell_type": "code",
      "source": [
        "# Convert configs into a numpy array so that we can do vector calculations\n",
        "configs = np.array(configs)\n",
        "\n",
        "# How often was sigma = 1 in the sample?\n",
        "p_pos_sample = np.sum(configs==1) / float(len(configs))\n",
        "\n",
        "# How often was sigma = -1 in the sample?\n",
        "p_neg_sample = np.sum(configs==-1) / float(len(configs))\n",
        "\n",
        "# Compare these with the analytical values\n",
        "print('P(+1) true: %lf\\tsample: %lf' % (p_pos, p_pos_sample))\n",
        "print('P(-1) true: %lf\\tsample: %lf' % (p_neg, p_neg_sample))"
      ],
      "execution_count": 6,
      "outputs": [
        {
          "output_type": "stream",
          "text": [
            "P(+1) true: 0.880797\tsample: 0.878000\n",
            "P(-1) true: 0.119203\tsample: 0.122000\n"
          ],
          "name": "stdout"
        }
      ]
    },
    {
      "metadata": {
        "id": "ALT1G0fvZdbG",
        "colab_type": "code",
        "colab": {}
      },
      "cell_type": "code",
      "source": [
        ""
      ],
      "execution_count": 0,
      "outputs": []
    }
  ]
}